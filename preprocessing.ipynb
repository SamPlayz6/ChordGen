{
 "cells": [
  {
   "cell_type": "code",
   "execution_count": 9,
   "metadata": {},
   "outputs": [],
   "source": [
    "import os\n",
    "import pretty_midi\n",
    "import numpy as np\n",
    "\n",
    "def extract_melody_and_chords(pm):\n",
    "    melody = []\n",
    "    chords = []\n",
    "    for instrument in pm.instruments:\n",
    "        # Sort the notes by their start time\n",
    "        instrument.notes.sort(key=lambda note: note.start)\n",
    "        for i in range(len(instrument.notes)):\n",
    "            if i == 0 or instrument.notes[i].start > instrument.notes[i - 1].end:\n",
    "                # This note starts a new chord\n",
    "                melody.append(instrument.notes[i].pitch)\n",
    "                if i > 0:\n",
    "                    # Append the previous chord to the chords list\n",
    "                    chords.append([note.pitch for note in instrument.notes[i - 1::-1] if note.end > instrument.notes[i - 1].start])\n",
    "\n",
    "                else:\n",
    "                    # This note is part of the current chord\n",
    "                    instrument.notes[i - 1].end = max(instrument.notes[i - 1].end, instrument.notes[i].end)\n",
    "            # Append the last chord to the chords list\n",
    "            chords.append([note.pitch for note in instrument.notes[::-1] if note.end > instrument.notes[-1].start])\n",
    "        return melody, chords\n",
    "\n",
    "\n",
    "def transpose_to_c_major(pm):\n",
    "    key = pm.key_signature_changes\n",
    "    if len(key) > 0:\n",
    "        key = key[0].key_number\n",
    "    else:\n",
    "        key = 0\n",
    "    semitones = -key\n",
    "    for instrument in pm.instruments:\n",
    "        for note in instrument.notes:\n",
    "            note.pitch += semitones\n",
    "    return pm\n",
    "\n",
    "def encode_melody_and_chords(melody, chords):\n",
    "    unique_notes = list(set(melody))\n",
    "    note_to_int = {note: i for i, note in enumerate(unique_notes)}\n",
    "    melody_encoded = [note_to_int[note] for note in melody]\n",
    "\n",
    "    unique_chords = list(set(chords))\n",
    "    chord_to_int = {chord: i for i, chord in enumerate(unique_chords)}\n",
    "    chords_encoded = [chord_to_int[chord] for chord in chords]\n",
    "\n",
    "    return melody_encoded, chords_encoded"
   ]
  },
  {
   "cell_type": "code",
   "execution_count": 5,
   "metadata": {},
   "outputs": [
    {
     "name": "stderr",
     "output_type": "stream",
     "text": [
      "c:\\Python39\\lib\\site-packages\\pretty_midi\\pretty_midi.py:100: RuntimeWarning: Tempo, Key or Time signature change events found on non-zero tracks.  This is not a valid type 0 or type 1 MIDI file.  Tempo, Key or Time Signature may be wrong.\n",
      "  warnings.warn(\n"
     ]
    },
    {
     "name": "stdout",
     "output_type": "stream",
     "text": [
      "bad 0\n",
      "bad 1\n",
      "bad 2\n",
      "bad 3\n",
      "bad 4\n",
      "bad 5\n",
      "bad 6\n",
      "bad 7\n",
      "bad 8\n",
      "bad 9\n",
      "bad 10\n",
      "bad 11\n",
      "bad 12\n",
      "bad 13\n",
      "bad 14\n",
      "bad 15\n",
      "bad 16\n",
      "bad 17\n",
      "bad 18\n",
      "bad 19\n",
      "bad 20\n",
      "bad 21\n",
      "bad 22\n",
      "bad 23\n",
      "bad 24\n",
      "bad 25\n",
      "bad 26\n",
      "bad 27\n",
      "bad 28\n",
      "bad 29\n",
      "bad 30\n",
      "bad 31\n",
      "bad 32\n",
      "bad 33\n",
      "bad 34\n",
      "bad 35\n",
      "bad 36\n",
      "bad 37\n",
      "bad 38\n",
      "bad 39\n",
      "bad 40\n",
      "bad 41\n",
      "bad 42\n"
     ]
    }
   ],
   "source": [
    "# Directory where the Lakh MIDI dataset is stored\n",
    "midi_dir = 'C:\\\\Users\\\\samdd\\\\Desktop\\\\ChordGen\\\\ChordGen\\\\lakhData\\\\archive'\n",
    "\n",
    "badcnt = 0\n",
    "goodcnt = 0\n",
    "goodfiles = []\n",
    "\n",
    "#Good / Bad MIDI file filtering\n",
    "# Iterate over all MIDI files in the directory\n",
    "for foldername in os.listdir(midi_dir):\n",
    "    # print(midi_dir + '\\\\' + foldername, \"1\")\n",
    "    for filename in os.listdir(midi_dir + '\\\\' + foldername):\n",
    "        # print(filename, \"2\")\n",
    "        if filename.endswith('.mid'):\n",
    "            # Load the MIDI file\n",
    "            try:\n",
    "                pm = pretty_midi.PrettyMIDI(os.path.join(midi_dir + '\\\\' + foldername, filename))\n",
    "                goodcnt += 1\n",
    "                # print(\"good\", goodcnt)\n",
    "                goodfiles.append(pm)\n",
    "            except:\n",
    "                print(\"bad\", badcnt)\n",
    "                badcnt += 1\n",
    "\n",
    "print(goodfiles)\n",
    "#Save the list so script doesnt have to be rerun with Pickle\n",
    "import pickle\n",
    "\n",
    "with open('goodfiles.pkl','wb') as f:\n",
    "    pickle.dump(goodfiles, f)"
   ]
  },
  {
   "cell_type": "code",
   "execution_count": 1,
   "metadata": {},
   "outputs": [
    {
     "ename": "FileNotFoundError",
     "evalue": "[Errno 2] No such file or directory: 'goodfiles.pkl'",
     "output_type": "error",
     "traceback": [
      "\u001b[1;31m---------------------------------------------------------------------------\u001b[0m",
      "\u001b[1;31mFileNotFoundError\u001b[0m                         Traceback (most recent call last)",
      "\u001b[1;32mc:\\Users\\samdd\\Desktop\\ChordGen\\ChordGen\\preprocessing.ipynb Cell 3\u001b[0m line \u001b[0;36m3\n\u001b[0;32m      <a href='vscode-notebook-cell:/c%3A/Users/samdd/Desktop/ChordGen/ChordGen/preprocessing.ipynb#W2sZmlsZQ%3D%3D?line=0'>1</a>\u001b[0m \u001b[39mimport\u001b[39;00m \u001b[39mpickle\u001b[39;00m\n\u001b[1;32m----> <a href='vscode-notebook-cell:/c%3A/Users/samdd/Desktop/ChordGen/ChordGen/preprocessing.ipynb#W2sZmlsZQ%3D%3D?line=2'>3</a>\u001b[0m \u001b[39mwith\u001b[39;00m \u001b[39mopen\u001b[39;49m(\u001b[39m'\u001b[39;49m\u001b[39mgoodfiles.pkl\u001b[39;49m\u001b[39m'\u001b[39;49m, \u001b[39m'\u001b[39;49m\u001b[39mrb\u001b[39;49m\u001b[39m'\u001b[39;49m) \u001b[39mas\u001b[39;00m f:\n\u001b[0;32m      <a href='vscode-notebook-cell:/c%3A/Users/samdd/Desktop/ChordGen/ChordGen/preprocessing.ipynb#W2sZmlsZQ%3D%3D?line=3'>4</a>\u001b[0m     goodfiles \u001b[39m=\u001b[39m pickle\u001b[39m.\u001b[39mload(f)\n\u001b[0;32m      <a href='vscode-notebook-cell:/c%3A/Users/samdd/Desktop/ChordGen/ChordGen/preprocessing.ipynb#W2sZmlsZQ%3D%3D?line=6'>7</a>\u001b[0m \u001b[39mprint\u001b[39m(goodfiles)\n",
      "File \u001b[1;32m~\\AppData\\Roaming\\Python\\Python39\\site-packages\\IPython\\core\\interactiveshell.py:310\u001b[0m, in \u001b[0;36m_modified_open\u001b[1;34m(file, *args, **kwargs)\u001b[0m\n\u001b[0;32m    303\u001b[0m \u001b[39mif\u001b[39;00m file \u001b[39min\u001b[39;00m {\u001b[39m0\u001b[39m, \u001b[39m1\u001b[39m, \u001b[39m2\u001b[39m}:\n\u001b[0;32m    304\u001b[0m     \u001b[39mraise\u001b[39;00m \u001b[39mValueError\u001b[39;00m(\n\u001b[0;32m    305\u001b[0m         \u001b[39mf\u001b[39m\u001b[39m\"\u001b[39m\u001b[39mIPython won\u001b[39m\u001b[39m'\u001b[39m\u001b[39mt let you open fd=\u001b[39m\u001b[39m{\u001b[39;00mfile\u001b[39m}\u001b[39;00m\u001b[39m by default \u001b[39m\u001b[39m\"\u001b[39m\n\u001b[0;32m    306\u001b[0m         \u001b[39m\"\u001b[39m\u001b[39mas it is likely to crash IPython. If you know what you are doing, \u001b[39m\u001b[39m\"\u001b[39m\n\u001b[0;32m    307\u001b[0m         \u001b[39m\"\u001b[39m\u001b[39myou can use builtins\u001b[39m\u001b[39m'\u001b[39m\u001b[39m open.\u001b[39m\u001b[39m\"\u001b[39m\n\u001b[0;32m    308\u001b[0m     )\n\u001b[1;32m--> 310\u001b[0m \u001b[39mreturn\u001b[39;00m io_open(file, \u001b[39m*\u001b[39margs, \u001b[39m*\u001b[39m\u001b[39m*\u001b[39mkwargs)\n",
      "\u001b[1;31mFileNotFoundError\u001b[0m: [Errno 2] No such file or directory: 'goodfiles.pkl'"
     ]
    }
   ],
   "source": [
    "import pickle\n",
    "\n",
    "with open('goodfiles.pkl', 'rb') as f:\n",
    "    goodfiles = pickle.load(f)\n",
    "\n",
    "\n",
    "print(goodfiles)"
   ]
  },
  {
   "cell_type": "code",
   "execution_count": null,
   "metadata": {},
   "outputs": [],
   "source": [
    "for song in goodfiles:\n",
    "        melody, chords = extract_melody_and_chords(pm)\n",
    "\n",
    "        # Transpose to C major\n",
    "        pm = transpose_to_c_major(pm)\n",
    "\n",
    "        # Encode melody and chords\n",
    "        melody_encoded, chords_encoded = encode_melody_and_chords(melody, chords)\n",
    "        print(melody, \" _ \",chords)"
   ]
  },
  {
   "cell_type": "code",
   "execution_count": 3,
   "metadata": {},
   "outputs": [],
   "source": [
    "#Test block for the case of one file\n",
    "#Example file Am_I_Blue_AB.mid\n",
    "\n",
    "test = pretty_midi.PrettyMIDI(os.path.join('C:\\\\Users\\\\samdd\\\\Desktop\\\\ChordGen\\\\ChordGen\\\\SingleFileTest', 'Am_I_Blue_AB.mid'))"
   ]
  },
  {
   "cell_type": "code",
   "execution_count": 13,
   "metadata": {},
   "outputs": [
    {
     "ename": "TypeError",
     "evalue": "unhashable type: 'list'",
     "output_type": "error",
     "traceback": [
      "\u001b[1;31m---------------------------------------------------------------------------\u001b[0m",
      "\u001b[1;31mTypeError\u001b[0m                                 Traceback (most recent call last)",
      "\u001b[1;32mc:\\Users\\samdd\\Desktop\\ChordGen\\ChordGen\\preprocessing.ipynb Cell 6\u001b[0m line \u001b[0;36m7\n\u001b[0;32m      <a href='vscode-notebook-cell:/c%3A/Users/samdd/Desktop/ChordGen/ChordGen/preprocessing.ipynb#W5sZmlsZQ%3D%3D?line=3'>4</a>\u001b[0m test \u001b[39m=\u001b[39m transpose_to_c_major(test)\n\u001b[0;32m      <a href='vscode-notebook-cell:/c%3A/Users/samdd/Desktop/ChordGen/ChordGen/preprocessing.ipynb#W5sZmlsZQ%3D%3D?line=5'>6</a>\u001b[0m \u001b[39m# Encode melody and chords\u001b[39;00m\n\u001b[1;32m----> <a href='vscode-notebook-cell:/c%3A/Users/samdd/Desktop/ChordGen/ChordGen/preprocessing.ipynb#W5sZmlsZQ%3D%3D?line=6'>7</a>\u001b[0m melody_encoded, chords_encoded \u001b[39m=\u001b[39m encode_melody_and_chords(melody, chords)\n\u001b[0;32m      <a href='vscode-notebook-cell:/c%3A/Users/samdd/Desktop/ChordGen/ChordGen/preprocessing.ipynb#W5sZmlsZQ%3D%3D?line=7'>8</a>\u001b[0m \u001b[39mprint\u001b[39m(\u001b[39mlen\u001b[39m(melody), melody)\n\u001b[0;32m      <a href='vscode-notebook-cell:/c%3A/Users/samdd/Desktop/ChordGen/ChordGen/preprocessing.ipynb#W5sZmlsZQ%3D%3D?line=8'>9</a>\u001b[0m \u001b[39mprint\u001b[39m(\u001b[39mlen\u001b[39m(chords),chords)\n",
      "\u001b[1;32mc:\\Users\\samdd\\Desktop\\ChordGen\\ChordGen\\preprocessing.ipynb Cell 6\u001b[0m line \u001b[0;36m4\n\u001b[0;32m     <a href='vscode-notebook-cell:/c%3A/Users/samdd/Desktop/ChordGen/ChordGen/preprocessing.ipynb#W5sZmlsZQ%3D%3D?line=40'>41</a>\u001b[0m note_to_int \u001b[39m=\u001b[39m {note: i \u001b[39mfor\u001b[39;00m i, note \u001b[39min\u001b[39;00m \u001b[39menumerate\u001b[39m(unique_notes)}\n\u001b[0;32m     <a href='vscode-notebook-cell:/c%3A/Users/samdd/Desktop/ChordGen/ChordGen/preprocessing.ipynb#W5sZmlsZQ%3D%3D?line=41'>42</a>\u001b[0m melody_encoded \u001b[39m=\u001b[39m [note_to_int[note] \u001b[39mfor\u001b[39;00m note \u001b[39min\u001b[39;00m melody]\n\u001b[1;32m---> <a href='vscode-notebook-cell:/c%3A/Users/samdd/Desktop/ChordGen/ChordGen/preprocessing.ipynb#W5sZmlsZQ%3D%3D?line=43'>44</a>\u001b[0m unique_chords \u001b[39m=\u001b[39m \u001b[39mlist\u001b[39m(\u001b[39mset\u001b[39;49m(chords))\n\u001b[0;32m     <a href='vscode-notebook-cell:/c%3A/Users/samdd/Desktop/ChordGen/ChordGen/preprocessing.ipynb#W5sZmlsZQ%3D%3D?line=44'>45</a>\u001b[0m chord_to_int \u001b[39m=\u001b[39m {chord: i \u001b[39mfor\u001b[39;00m i, chord \u001b[39min\u001b[39;00m \u001b[39menumerate\u001b[39m(unique_chords)}\n\u001b[0;32m     <a href='vscode-notebook-cell:/c%3A/Users/samdd/Desktop/ChordGen/ChordGen/preprocessing.ipynb#W5sZmlsZQ%3D%3D?line=45'>46</a>\u001b[0m chords_encoded \u001b[39m=\u001b[39m [chord_to_int[chord] \u001b[39mfor\u001b[39;00m chord \u001b[39min\u001b[39;00m chords]\n",
      "\u001b[1;31mTypeError\u001b[0m: unhashable type: 'list'"
     ]
    }
   ],
   "source": [
    "melody, chords = extract_melody_and_chords(test)\n",
    "\n",
    "# Transpose to C major\n",
    "test = transpose_to_c_major(test)\n",
    "\n",
    "# Encode melody and chords\n",
    "melody_encoded, chords_encoded = encode_melody_and_chords(melody, chords)\n",
    "print(len(melody), melody)\n",
    "print(len(chords),chords)"
   ]
  }
 ],
 "metadata": {
  "kernelspec": {
   "display_name": "Python 3",
   "language": "python",
   "name": "python3"
  },
  "language_info": {
   "codemirror_mode": {
    "name": "ipython",
    "version": 3
   },
   "file_extension": ".py",
   "mimetype": "text/x-python",
   "name": "python",
   "nbconvert_exporter": "python",
   "pygments_lexer": "ipython3",
   "version": "3.9.6"
  }
 },
 "nbformat": 4,
 "nbformat_minor": 2
}
